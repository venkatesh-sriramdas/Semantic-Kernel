{
 "cells": [
  {
   "cell_type": "markdown",
   "metadata": {},
   "source": [
    "# <span style='color:lime;'>What are Kernel Functions</span>\n",
    "### Kernel Functions gives ability LLM to interact with native code which is written in the programming language that supported by Semantic Kernel SDK. Which helps to perform some complex tasks that can easily done using our own code instead of relying everything on LLM. Which is very critical in any LLM applications. This Semantic Kernel SDK will intelligently invoke the functions required. These are ideally coupled with Plugins. \n",
    "\n",
    "\n",
    "# <span style='color:lime;'>How to create Kernel Functions</span>\n",
    "### What are different ways to create functions\n",
    "### How to use them\n",
    "### Calling Functions\n",
    "### Automatic function calling\n",
    "### Nested Function calling\n"
   ]
  },
  {
   "cell_type": "code",
   "execution_count": 1,
   "metadata": {
    "dotnet_interactive": {
     "language": "csharp"
    },
    "polyglot_notebook": {
     "kernelName": "csharp"
    }
   },
   "outputs": [
    {
     "data": {
      "text/html": [
       "<div><div></div><div></div><div><strong>Installed Packages</strong><ul><li><span>DotNetEnv, 2.2.0</span></li><li><span>Microsoft.Extensions.DependencyInjection, 8.0.0</span></li><li><span>Microsoft.Extensions.Logging.Console, 8.0.0</span></li><li><span>Microsoft.SemanticKernel, 1.7.1</span></li></ul></div></div>"
      ]
     },
     "metadata": {},
     "output_type": "display_data"
    }
   ],
   "source": [
    "#r \"nuget: Microsoft.SemanticKernel, 1.7.1\"\n",
    "#r \"nuget: DotNetEnv, 2.2.0\"\n",
    "#r \"nuget: Microsoft.Extensions.Logging.Console, *\"\n",
    "#r \"nuget: Microsoft.Extensions.DependencyInjection,*\""
   ]
  },
  {
   "cell_type": "code",
   "execution_count": 2,
   "metadata": {
    "dotnet_interactive": {
     "language": "csharp"
    },
    "polyglot_notebook": {
     "kernelName": "csharp"
    }
   },
   "outputs": [],
   "source": [
    "using Microsoft.SemanticKernel;\n",
    "using Kernel = Microsoft.SemanticKernel.Kernel;\n",
    "using System.Diagnostics;\n",
    "using Microsoft.SemanticKernel.Connectors.OpenAI;\n",
    "using System.ComponentModel;\n",
    "using DotNetEnv;\n",
    "using Microsoft.Extensions.Logging;\n",
    "using Microsoft.Extensions.DependencyInjection;\n",
    "using Microsoft.SemanticKernel.ChatCompletion;\n",
    "\n",
    "Env.Load(\"../\");\n",
    "var endpoint = Environment.GetEnvironmentVariable(\"AOAIEndPoint\");\n",
    "var apikey = Environment.GetEnvironmentVariable(\"AOAIApiKey\");\n",
    "var deployementName = Environment.GetEnvironmentVariable(\"deployementName\");\n"
   ]
  },
  {
   "cell_type": "code",
   "execution_count": 9,
   "metadata": {
    "dotnet_interactive": {
     "language": "csharp"
    },
    "polyglot_notebook": {
     "kernelName": "csharp"
    }
   },
   "outputs": [],
   "source": [
    "\n",
    "var skBuilder = Kernel.CreateBuilder();\n",
    "\n",
    "//for detailed verbose\n",
    "skBuilder.Services.AddLogging(configure => configure.AddConsole().SetMinimumLevel(LogLevel.Trace));\n",
    "\n",
    "var kernel = skBuilder\n",
    ".AddAzureOpenAIChatCompletion(deployementName,endpoint,apikey)\n",
    ".Build();"
   ]
  },
  {
   "cell_type": "code",
   "execution_count": 12,
   "metadata": {
    "dotnet_interactive": {
     "language": "csharp"
    },
    "polyglot_notebook": {
     "kernelName": "csharp"
    }
   },
   "outputs": [],
   "source": [
    "\n",
    "public sealed class TimePlugin\n",
    "{\n",
    "    [KernelFunction,Description(\"To get current time and date\")]\n",
    "    [return: Description(\"Returns current date and time in dddd dd-MMM-yyyy hh:mm:tt\")]\n",
    "    public string GetToday()\n",
    "    {\n",
    "        return DateTime.Now.ToString(\"dddd dd-MMM-yyyy hh:mm:tt\");\n",
    "    }\n",
    "\n",
    "    [KernelFunction,Description(\"Get the past Week day name based current date\")]\n",
    "    [return: Description(\"Returns date and time along with week name\")]\n",
    "    public string WeekDayBeforeNoOfDays([Description(\"The interger past no of days to\")]int NoOfDaysBefore)\n",
    "    {\n",
    "       \n",
    "        return DateTime.Now.AddDays(NoOfDaysBefore*-1).ToString(\"dddd dd-MMM-yyyy hh:mm:tt\");\n",
    "    }\n",
    " \n",
    "}\n",
    "kernel.Plugins.Clear();\n",
    "kernel.Plugins.AddFromType<TimePlugin>();\n",
    "// kernel.ImportPluginFromType<TimePlugin>();\n"
   ]
  },
  {
   "cell_type": "code",
   "execution_count": 13,
   "metadata": {
    "dotnet_interactive": {
     "language": "csharp"
    },
    "polyglot_notebook": {
     "kernelName": "csharp"
    }
   },
   "outputs": [],
   "source": [
    "IChatCompletionService chat = kernel.GetRequiredService<IChatCompletionService>();\n",
    "\n",
    " // Get the chat completions\n",
    "OpenAIPromptExecutionSettings openAIPromptExecutionSettings = new()\n",
    "{\n",
    "    ToolCallBehavior = ToolCallBehavior.AutoInvokeKernelFunctions\n",
    "};\n",
    "\n",
    "var results = await chat.GetChatMessageContentAsync(\"what day will come 5 days before and also include the time from now.\",openAIPromptExecutionSettings,kernel);\n"
   ]
  },
  {
   "cell_type": "code",
   "execution_count": 14,
   "metadata": {
    "dotnet_interactive": {
     "language": "csharp"
    },
    "polyglot_notebook": {
     "kernelName": "csharp"
    }
   },
   "outputs": [
    {
     "name": "stdout",
     "output_type": "stream",
     "text": [
      "The day that will come 5 days before today, including the current time, is Thursday, April 18, 2024, at 11:04 PM.\r\n"
     ]
    }
   ],
   "source": [
    "Console.WriteLine(results);"
   ]
  }
 ],
 "metadata": {
  "kernelspec": {
   "display_name": ".NET (C#)",
   "language": "C#",
   "name": ".net-csharp"
  },
  "language_info": {
   "name": "polyglot-notebook"
  },
  "polyglot_notebook": {
   "kernelInfo": {
    "defaultKernelName": "csharp",
    "items": [
     {
      "aliases": [],
      "languageName": "csharp",
      "name": "csharp"
     }
    ]
   }
  }
 },
 "nbformat": 4,
 "nbformat_minor": 2
}
